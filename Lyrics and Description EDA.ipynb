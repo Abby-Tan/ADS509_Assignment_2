{
 "cells": [
  {
   "cell_type": "markdown",
   "metadata": {},
   "source": [
    "#### ADS 509\n",
    "#### Assignment 2\n",
    "#### Abby Tan\n",
    "#### GitHub Link: https://github.com/Abby-Tan/ADS509_Assignment_2"
   ]
  },
  {
   "cell_type": "markdown",
   "metadata": {},
   "source": [
    "# ADS 509 Assignment 2.1: Tokenization, Normalization, Descriptive Statistics \n",
    "\n",
    "This notebook holds Assignment 2.1 for Module 2 in ADS 509, Applied Text Mining. Work through this notebook, writing code and answering questions where required. \n",
    "\n",
    "In the previous assignment you put together Twitter data and lyrics data on two artists. In this assignment we explore some of the textual features of those data sets. If, for some reason, you did not complete that previous assignment, data to use for this assignment can be found in the assignment materials section of Blackboard. \n",
    "\n",
    "This assignment asks you to write a short function to calculate some descriptive statistics on a piece of text. Then you are asked to find some interesting and unique statistics on your corpora. \n"
   ]
  },
  {
   "cell_type": "markdown",
   "metadata": {},
   "source": [
    "## General Assignment Instructions\n",
    "\n",
    "These instructions are included in every assignment, to remind you of the coding standards for the class. Feel free to delete this cell after reading it. \n",
    "\n",
    "One sign of mature code is conforming to a style guide. We recommend the [Google Python Style Guide](https://google.github.io/styleguide/pyguide.html). If you use a different style guide, please include a cell with a link. \n",
    "\n",
    "Your code should be relatively easy-to-read, sensibly commented, and clean. Writing code is a messy process, so please be sure to edit your final submission. Remove any cells that are not needed or parts of cells that contain unnecessary code. Remove inessential `import` statements and make sure that all such statements are moved into the designated cell. \n",
    "\n",
    "Make use of non-code cells for written commentary. These cells should be grammatical and clearly written. In some of these cells you will have questions to answer. The questions will be marked by a \"Q:\" and will have a corresponding \"A:\" spot for you. *Make sure to answer every question marked with a `Q:` for full credit.* \n"
   ]
  },
  {
   "cell_type": "code",
   "execution_count": 2,
   "metadata": {},
   "outputs": [
    {
     "name": "stdout",
     "output_type": "stream",
     "text": [
      "Collecting emoji\n",
      "  Downloading emoji-2.1.0.tar.gz (216 kB)\n",
      "Building wheels for collected packages: emoji\n",
      "  Building wheel for emoji (setup.py): started\n",
      "  Building wheel for emoji (setup.py): finished with status 'done'\n",
      "  Created wheel for emoji: filename=emoji-2.1.0-py3-none-any.whl size=212377 sha256=c23006e865529c5f34c8f2230232f2e35ab4ce8e42cb77fb2f29dd4f486a9450\n",
      "  Stored in directory: c:\\users\\abby0\\appdata\\local\\pip\\cache\\wheels\\ae\\80\\43\\3b56e58669d65ea9ebf38b9574074ca248143b61f45e114a6b\n",
      "Successfully built emoji\n",
      "Installing collected packages: emoji\n",
      "Successfully installed emoji-2.1.0\n",
      "Note: you may need to restart the kernel to use updated packages.\n"
     ]
    }
   ],
   "source": [
    "pip install emoji"
   ]
  },
  {
   "cell_type": "code",
   "execution_count": 264,
   "metadata": {},
   "outputs": [
    {
     "name": "stdout",
     "output_type": "stream",
     "text": [
      "Collecting lexical-diversity\n",
      "  Downloading lexical_diversity-0.1.1-py3-none-any.whl (117 kB)\n",
      "Installing collected packages: lexical-diversity\n",
      "Successfully installed lexical-diversity-0.1.1\n",
      "Note: you may need to restart the kernel to use updated packages.\n"
     ]
    }
   ],
   "source": [
    "pip install lexical-diversity"
   ]
  },
  {
   "cell_type": "code",
   "execution_count": 1,
   "metadata": {},
   "outputs": [],
   "source": [
    "import os\n",
    "import re\n",
    "import emoji\n",
    "import pandas as pd\n",
    "import numpy as np\n",
    "\n",
    "from collections import Counter, defaultdict\n",
    "from nltk.corpus import stopwords\n",
    "from string import punctuation"
   ]
  },
  {
   "cell_type": "code",
   "execution_count": 2,
   "metadata": {},
   "outputs": [
    {
     "name": "stderr",
     "output_type": "stream",
     "text": [
      "[nltk_data] Downloading package stopwords to\n",
      "[nltk_data]     C:\\Users\\abby0\\AppData\\Roaming\\nltk_data...\n",
      "[nltk_data]   Package stopwords is already up-to-date!\n"
     ]
    },
    {
     "data": {
      "text/plain": [
       "True"
      ]
     },
     "execution_count": 2,
     "metadata": {},
     "output_type": "execute_result"
    }
   ],
   "source": [
    "import nltk\n",
    "nltk.download('stopwords')"
   ]
  },
  {
   "cell_type": "code",
   "execution_count": 3,
   "metadata": {},
   "outputs": [],
   "source": [
    "sw = stopwords.words(\"english\")"
   ]
  },
  {
   "cell_type": "code",
   "execution_count": 265,
   "metadata": {},
   "outputs": [],
   "source": [
    "# Add any additional import statements you need here\n",
    "import string\n",
    "from lexical_diversity import lex_div as ld\n"
   ]
  },
  {
   "cell_type": "code",
   "execution_count": 5,
   "metadata": {},
   "outputs": [],
   "source": [
    "# change `data_location` to the location of the folder on your machine.\n",
    "data_location = \"C:/Users/abby0/OneDrive/Desktop/MSADS/ADS-509 Applied Text Mining/Module 2/\"\n",
    "\n",
    "# These subfolders should still work if you correctly stored the \n",
    "# data from the Module 1 assignment\n",
    "twitter_folder = \"twitter/\"\n",
    "lyrics_folder = \"lyrics/\""
   ]
  },
  {
   "cell_type": "code",
   "execution_count": 6,
   "metadata": {},
   "outputs": [],
   "source": [
    "def descriptive_stats(tokens, num_tokens = 5, verbose=True) :\n",
    "    \"\"\"\n",
    "        Given a list of tokens, print number of tokens, number of unique tokens, \n",
    "        number of characters, lexical diversity (https://en.wikipedia.org/wiki/Lexical_diversity), \n",
    "        and num_tokens most common tokens. Return a list with the number of tokens, number\n",
    "        of unique tokens, lexical diversity, and number of characters. \n",
    "    \n",
    "    \"\"\"\n",
    "\n",
    "    # Fill in the correct values here. \n",
    "    num_tokens = 13\n",
    "    num_unique_tokens = 9\n",
    "    lexical_diversity = 0.69\n",
    "    num_characters = 55\n",
    "    \n",
    "    if verbose :        \n",
    "        print(f\"There are {num_tokens} tokens in the data.\")\n",
    "        print(f\"There are {num_unique_tokens} unique tokens in the data.\")\n",
    "        print(f\"There are {num_characters} characters in the data.\")\n",
    "        print(f\"The lexical diversity is {lexical_diversity:.3f} in the data.\")\n",
    "    \n",
    "        # print the five most common tokens\n",
    "        \n",
    "    return([num_tokens, num_unique_tokens,\n",
    "            lexical_diversity,\n",
    "            num_characters])\n",
    "    "
   ]
  },
  {
   "cell_type": "code",
   "execution_count": 7,
   "metadata": {},
   "outputs": [
    {
     "name": "stdout",
     "output_type": "stream",
     "text": [
      "There are 13 tokens in the data.\n",
      "There are 9 unique tokens in the data.\n",
      "There are 55 characters in the data.\n",
      "The lexical diversity is 0.690 in the data.\n"
     ]
    }
   ],
   "source": [
    "text = \"\"\"here is some example text with other example text here in this text\"\"\".split()\n",
    "assert(descriptive_stats(text, verbose=True)[0] == 13)\n",
    "assert(descriptive_stats(text, verbose=False)[1] == 9)\n",
    "assert(abs(descriptive_stats(text, verbose=False)[2] - 0.69) < 0.02)\n",
    "assert(descriptive_stats(text, verbose=False)[3] == 55)\n"
   ]
  },
  {
   "cell_type": "markdown",
   "metadata": {},
   "source": [
    "Q: Why is it beneficial to use assertion statements in your code? \n",
    "\n",
    "A: The assertion statements are beneficial for debugging. It will raise errors if the condition from the assertion statement is false."
   ]
  },
  {
   "cell_type": "markdown",
   "metadata": {},
   "source": [
    "## Data Input\n",
    "\n",
    "Now read in each of the corpora. For the lyrics data, it may be convenient to store the entire contents of the file to make it easier to inspect the titles individually, as you'll do in the last part of the assignment. In the solution, I stored the lyrics data in a dictionary with two dimensions of keys: artist and song. The value was the file contents. A data frame would work equally well. \n",
    "\n",
    "For the Twitter data, we only need the description field for this assignment. Feel free all the descriptions read it into a data structure. In the solution, I stored the descriptions as a dictionary of lists, with the key being the artist. \n",
    "\n",
    "\n"
   ]
  },
  {
   "cell_type": "markdown",
   "metadata": {},
   "source": [
    "### Read in the lyrics data"
   ]
  },
  {
   "cell_type": "code",
   "execution_count": 759,
   "metadata": {},
   "outputs": [],
   "source": [
    "artist_folders = os.listdir(\"lyrics/\")\n",
    "artist_folders = [f for f in artist_folders if os.path.isdir(\"lyrics/\" + f)]"
   ]
  },
  {
   "cell_type": "code",
   "execution_count": 760,
   "metadata": {},
   "outputs": [],
   "source": [
    "artists = []\n",
    "songs = []\n",
    "lyrics = []"
   ]
  },
  {
   "cell_type": "code",
   "execution_count": 761,
   "metadata": {},
   "outputs": [],
   "source": [
    "for artist in artist_folders:\n",
    "    artist_files = os.listdir(\"lyrics/\" + artist)\n",
    "    artist_files = [f for f in artist_files if 'txt' in f or 'csv' in f or 'tsv' in f]\n",
    "    for f_name in artist_files:\n",
    "        with open(\"lyrics/\" + artist + \"/\" + f_name) as infile:\n",
    "            artists.append(artist)\n",
    "            songs.append(f_name)\n",
    "            lyrics.append(infile.read())"
   ]
  },
  {
   "cell_type": "code",
   "execution_count": 762,
   "metadata": {},
   "outputs": [],
   "source": [
    "df_lyrics = pd.DataFrame({'artists':artists,\n",
    "                          'songs'  :songs,\n",
    "                          'lyrics' :lyrics })"
   ]
  },
  {
   "cell_type": "code",
   "execution_count": 763,
   "metadata": {},
   "outputs": [],
   "source": [
    "df_lyrics['songs'] = df_lyrics['songs'].str.replace('joji_','')\n",
    "df_lyrics['songs'] = df_lyrics['songs'].str.replace('postmalone_','')\n",
    "df_lyrics['songs'] = df_lyrics['songs'].str.replace('.txt','')\n",
    "df_lyrics['songs'] = df_lyrics['songs'].str.replace('_',' ')"
   ]
  },
  {
   "cell_type": "code",
   "execution_count": 764,
   "metadata": {},
   "outputs": [
    {
     "data": {
      "text/html": [
       "<div>\n",
       "<style scoped>\n",
       "    .dataframe tbody tr th:only-of-type {\n",
       "        vertical-align: middle;\n",
       "    }\n",
       "\n",
       "    .dataframe tbody tr th {\n",
       "        vertical-align: top;\n",
       "    }\n",
       "\n",
       "    .dataframe thead th {\n",
       "        text-align: right;\n",
       "    }\n",
       "</style>\n",
       "<table border=\"1\" class=\"dataframe\">\n",
       "  <thead>\n",
       "    <tr style=\"text-align: right;\">\n",
       "      <th></th>\n",
       "      <th>artists</th>\n",
       "      <th>songs</th>\n",
       "      <th>lyrics</th>\n",
       "    </tr>\n",
       "  </thead>\n",
       "  <tbody>\n",
       "    <tr>\n",
       "      <th>0</th>\n",
       "      <td>Joji</td>\n",
       "      <td>amazonian pet</td>\n",
       "      <td>amazonian pet\\n\\nI'm an old man rich, amazonia...</td>\n",
       "    </tr>\n",
       "    <tr>\n",
       "      <th>1</th>\n",
       "      <td>Joji</td>\n",
       "      <td>attention</td>\n",
       "      <td>attention\\n\\nGirl, would it kill you just to t...</td>\n",
       "    </tr>\n",
       "    <tr>\n",
       "      <th>2</th>\n",
       "      <td>Joji</td>\n",
       "      <td>bitter fuck</td>\n",
       "      <td>bitter fuck\\n\\nI find it hard to be myself\\nI ...</td>\n",
       "    </tr>\n",
       "  </tbody>\n",
       "</table>\n",
       "</div>"
      ],
      "text/plain": [
       "  artists          songs                                             lyrics\n",
       "0    Joji  amazonian pet  amazonian pet\\n\\nI'm an old man rich, amazonia...\n",
       "1    Joji      attention  attention\\n\\nGirl, would it kill you just to t...\n",
       "2    Joji    bitter fuck  bitter fuck\\n\\nI find it hard to be myself\\nI ..."
      ]
     },
     "execution_count": 764,
     "metadata": {},
     "output_type": "execute_result"
    }
   ],
   "source": [
    "df_lyrics.head(3)"
   ]
  },
  {
   "cell_type": "markdown",
   "metadata": {},
   "source": [
    "### Read in the twitter data"
   ]
  },
  {
   "cell_type": "code",
   "execution_count": 583,
   "metadata": {},
   "outputs": [],
   "source": [
    "PostMalone_df = pd.read_csv(data_location + twitter_folder + 'PostMalone_follower_data.txt', sep='\\t')\n",
    "PostMalone_df['artists'] = 'PostMalone'\n",
    "PostMalone_df = PostMalone_df[['artists','description']]"
   ]
  },
  {
   "cell_type": "code",
   "execution_count": 654,
   "metadata": {},
   "outputs": [],
   "source": [
    "Joji_df = pd.read_csv(data_location + twitter_folder + 'sushitrash_follower_data.txt', sep='\\t')\n",
    "Joji_df['artists'] = 'Joji'\n",
    "Joji_df = Joji_df[['artists','description']]"
   ]
  },
  {
   "cell_type": "code",
   "execution_count": 666,
   "metadata": {},
   "outputs": [],
   "source": [
    "df_twitter = pd.concat([PostMalone_df, Joji_df])"
   ]
  },
  {
   "cell_type": "code",
   "execution_count": 667,
   "metadata": {},
   "outputs": [
    {
     "data": {
      "text/html": [
       "<div>\n",
       "<style scoped>\n",
       "    .dataframe tbody tr th:only-of-type {\n",
       "        vertical-align: middle;\n",
       "    }\n",
       "\n",
       "    .dataframe tbody tr th {\n",
       "        vertical-align: top;\n",
       "    }\n",
       "\n",
       "    .dataframe thead th {\n",
       "        text-align: right;\n",
       "    }\n",
       "</style>\n",
       "<table border=\"1\" class=\"dataframe\">\n",
       "  <thead>\n",
       "    <tr style=\"text-align: right;\">\n",
       "      <th></th>\n",
       "      <th>artists</th>\n",
       "      <th>description</th>\n",
       "    </tr>\n",
       "  </thead>\n",
       "  <tbody>\n",
       "    <tr>\n",
       "      <th>0</th>\n",
       "      <td>PostMalone</td>\n",
       "      <td>Hi People I'm Republican I Rap sing and do reg...</td>\n",
       "    </tr>\n",
       "    <tr>\n",
       "      <th>1</th>\n",
       "      <td>PostMalone</td>\n",
       "      <td>hi!</td>\n",
       "    </tr>\n",
       "    <tr>\n",
       "      <th>2</th>\n",
       "      <td>PostMalone</td>\n",
       "      <td>NaN</td>\n",
       "    </tr>\n",
       "  </tbody>\n",
       "</table>\n",
       "</div>"
      ],
      "text/plain": [
       "      artists                                        description\n",
       "0  PostMalone  Hi People I'm Republican I Rap sing and do reg...\n",
       "1  PostMalone                                                hi!\n",
       "2  PostMalone                                                NaN"
      ]
     },
     "execution_count": 667,
     "metadata": {},
     "output_type": "execute_result"
    }
   ],
   "source": [
    "df_twitter.head(3)"
   ]
  },
  {
   "cell_type": "markdown",
   "metadata": {},
   "source": [
    "## Data Cleaning\n",
    "\n",
    "Now clean and tokenize your data. Remove punctuation chacters (available in the `punctuation` object in the `string` library), split on whitespace, fold to lowercase, and remove stopwords. Store your cleaned data, which must be accessible as an interable for `descriptive_stats`, in new objects or in new columns in your data frame. \n",
    "\n"
   ]
  },
  {
   "cell_type": "code",
   "execution_count": 668,
   "metadata": {},
   "outputs": [],
   "source": [
    "punctuation = set(punctuation) # speeds up comparison"
   ]
  },
  {
   "cell_type": "code",
   "execution_count": 669,
   "metadata": {},
   "outputs": [],
   "source": [
    "def remove_punctuations(text):\n",
    "    for punctuation in string.punctuation:\n",
    "        text = text.replace(punctuation, ' ')\n",
    "    return text\n",
    "\n",
    "# reference: https://stackoverflow.com/questions/39782418/remove-punctuations-in-pandas"
   ]
  },
  {
   "cell_type": "markdown",
   "metadata": {},
   "source": [
    "### create your clean twitter data here"
   ]
  },
  {
   "cell_type": "code",
   "execution_count": 670,
   "metadata": {},
   "outputs": [],
   "source": [
    "# remove punctuation\n",
    "df_twitter['desc_2'] = df_twitter['description'].astype(str)\n",
    "df_twitter[\"desc_2\"] = df_twitter['desc_2'].apply(remove_punctuations)"
   ]
  },
  {
   "cell_type": "code",
   "execution_count": 671,
   "metadata": {},
   "outputs": [],
   "source": [
    "# split on whitespace\n",
    "df_twitter['desc_2'] = df_twitter['desc_2'].str.replace('\\n', ' ')"
   ]
  },
  {
   "cell_type": "code",
   "execution_count": 672,
   "metadata": {},
   "outputs": [],
   "source": [
    "# lowercase\n",
    "df_twitter = df_twitter.apply(lambda x: x.astype(str).str.lower())"
   ]
  },
  {
   "cell_type": "code",
   "execution_count": 673,
   "metadata": {},
   "outputs": [],
   "source": [
    "# remove stopwords\n",
    "df_twitter['desc_2'] = df_twitter['desc_2'].apply(lambda x: ' '.join([word for word in x.split() if word not in (sw)]))\n",
    "\n",
    "# reference: https://stackoverflow.com/questions/29523254/python-remove-stop-words-from-pandas-dataframe"
   ]
  },
  {
   "cell_type": "code",
   "execution_count": 674,
   "metadata": {},
   "outputs": [
    {
     "data": {
      "text/html": [
       "<div>\n",
       "<style scoped>\n",
       "    .dataframe tbody tr th:only-of-type {\n",
       "        vertical-align: middle;\n",
       "    }\n",
       "\n",
       "    .dataframe tbody tr th {\n",
       "        vertical-align: top;\n",
       "    }\n",
       "\n",
       "    .dataframe thead th {\n",
       "        text-align: right;\n",
       "    }\n",
       "</style>\n",
       "<table border=\"1\" class=\"dataframe\">\n",
       "  <thead>\n",
       "    <tr style=\"text-align: right;\">\n",
       "      <th></th>\n",
       "      <th>artists</th>\n",
       "      <th>description</th>\n",
       "      <th>desc_2</th>\n",
       "    </tr>\n",
       "  </thead>\n",
       "  <tbody>\n",
       "    <tr>\n",
       "      <th>0</th>\n",
       "      <td>postmalone</td>\n",
       "      <td>hi people i'm republican i rap sing and do reg...</td>\n",
       "      <td>hi people republican rap sing reggae music man...</td>\n",
       "    </tr>\n",
       "    <tr>\n",
       "      <th>1</th>\n",
       "      <td>postmalone</td>\n",
       "      <td>hi!</td>\n",
       "      <td>hi</td>\n",
       "    </tr>\n",
       "    <tr>\n",
       "      <th>2</th>\n",
       "      <td>postmalone</td>\n",
       "      <td>nan</td>\n",
       "      <td>nan</td>\n",
       "    </tr>\n",
       "  </tbody>\n",
       "</table>\n",
       "</div>"
      ],
      "text/plain": [
       "      artists                                        description  \\\n",
       "0  postmalone  hi people i'm republican i rap sing and do reg...   \n",
       "1  postmalone                                                hi!   \n",
       "2  postmalone                                                nan   \n",
       "\n",
       "                                              desc_2  \n",
       "0  hi people republican rap sing reggae music man...  \n",
       "1                                                 hi  \n",
       "2                                                nan  "
      ]
     },
     "execution_count": 674,
     "metadata": {},
     "output_type": "execute_result"
    }
   ],
   "source": [
    "df_twitter.head(3)"
   ]
  },
  {
   "cell_type": "markdown",
   "metadata": {},
   "source": [
    "### create your clean lyrics data here"
   ]
  },
  {
   "cell_type": "code",
   "execution_count": 774,
   "metadata": {},
   "outputs": [],
   "source": [
    "# remove punctuation\n",
    "df_lyrics['lyrics_2'] = df_lyrics['lyrics'].astype(str)\n",
    "df_lyrics['lyrics_2'] = df_lyrics['lyrics_2'].apply(remove_punctuations)"
   ]
  },
  {
   "cell_type": "code",
   "execution_count": 775,
   "metadata": {},
   "outputs": [],
   "source": [
    "# split on whitespace\n",
    "df_lyrics['lyrics_2'] = df_lyrics['lyrics_2'].str.replace('\\n', ' ')"
   ]
  },
  {
   "cell_type": "code",
   "execution_count": 776,
   "metadata": {},
   "outputs": [],
   "source": [
    "# lowercase\n",
    "df_lyrics = df_lyrics.apply(lambda x: x.astype(str).str.lower())"
   ]
  },
  {
   "cell_type": "code",
   "execution_count": 777,
   "metadata": {},
   "outputs": [],
   "source": [
    "# remove stopwords\n",
    "df_lyrics['lyrics_2'] = df_lyrics['lyrics_2'].apply(lambda x: ' '.join([word for word in x.split() if word not in (sw)]))"
   ]
  },
  {
   "cell_type": "code",
   "execution_count": 778,
   "metadata": {},
   "outputs": [
    {
     "data": {
      "text/html": [
       "<div>\n",
       "<style scoped>\n",
       "    .dataframe tbody tr th:only-of-type {\n",
       "        vertical-align: middle;\n",
       "    }\n",
       "\n",
       "    .dataframe tbody tr th {\n",
       "        vertical-align: top;\n",
       "    }\n",
       "\n",
       "    .dataframe thead th {\n",
       "        text-align: right;\n",
       "    }\n",
       "</style>\n",
       "<table border=\"1\" class=\"dataframe\">\n",
       "  <thead>\n",
       "    <tr style=\"text-align: right;\">\n",
       "      <th></th>\n",
       "      <th>artists</th>\n",
       "      <th>songs</th>\n",
       "      <th>lyrics</th>\n",
       "      <th>lyrics_len</th>\n",
       "      <th>lyrics_2</th>\n",
       "    </tr>\n",
       "  </thead>\n",
       "  <tbody>\n",
       "    <tr>\n",
       "      <th>0</th>\n",
       "      <td>joji</td>\n",
       "      <td>amazonian pet</td>\n",
       "      <td>amazonian pet\\n\\ni'm an old man rich, amazonia...</td>\n",
       "      <td>1</td>\n",
       "      <td>amazonian pet old man rich amazonian pet rap g...</td>\n",
       "    </tr>\n",
       "    <tr>\n",
       "      <th>1</th>\n",
       "      <td>joji</td>\n",
       "      <td>attention</td>\n",
       "      <td>attention\\n\\ngirl, would it kill you just to t...</td>\n",
       "      <td>1</td>\n",
       "      <td>attention girl would kill throw little bit att...</td>\n",
       "    </tr>\n",
       "    <tr>\n",
       "      <th>2</th>\n",
       "      <td>joji</td>\n",
       "      <td>bitter fuck</td>\n",
       "      <td>bitter fuck\\n\\ni find it hard to be myself\\ni ...</td>\n",
       "      <td>1</td>\n",
       "      <td>bitter fuck find hard shed skin everybody else...</td>\n",
       "    </tr>\n",
       "  </tbody>\n",
       "</table>\n",
       "</div>"
      ],
      "text/plain": [
       "  artists          songs                                             lyrics  \\\n",
       "0    joji  amazonian pet  amazonian pet\\n\\ni'm an old man rich, amazonia...   \n",
       "1    joji      attention  attention\\n\\ngirl, would it kill you just to t...   \n",
       "2    joji    bitter fuck  bitter fuck\\n\\ni find it hard to be myself\\ni ...   \n",
       "\n",
       "  lyrics_len                                           lyrics_2  \n",
       "0          1  amazonian pet old man rich amazonian pet rap g...  \n",
       "1          1  attention girl would kill throw little bit att...  \n",
       "2          1  bitter fuck find hard shed skin everybody else...  "
      ]
     },
     "execution_count": 778,
     "metadata": {},
     "output_type": "execute_result"
    }
   ],
   "source": [
    "df_lyrics.head(3)"
   ]
  },
  {
   "cell_type": "markdown",
   "metadata": {},
   "source": [
    "## Basic Descriptive Statistics\n",
    "\n",
    "Call your `descriptive_stats` function on both your lyrics data and your twitter data and for both artists (four total calls). "
   ]
  },
  {
   "cell_type": "code",
   "execution_count": 680,
   "metadata": {},
   "outputs": [],
   "source": [
    "def descriptive_stats(tokens_list, tokens_text, verbose=True):\n",
    "    \n",
    "    num_tokens = len(tokens_list)\n",
    "    num_unique_tokens = len(set(tokens_list))\n",
    "    num_characters = len(tokens_text)\n",
    "    lexical_diversity = ld.ttr(tokens_list)\n",
    "    most_common_5 = Counter(tokens_list).most_common(5)\n",
    "    \n",
    "    if verbose :        \n",
    "        print(f\"There are {num_tokens} tokens in the data.\")\n",
    "        print(f\"There are {num_unique_tokens} unique tokens in the data.\")\n",
    "        print(f\"There are {num_characters} characters in the data.\")\n",
    "        print(f\"The lexical diversity is {lexical_diversity:.3f} in the data.\")\n",
    "    \n",
    "    # print the five most common tokens    \n",
    "        print(f\"The five most common tokens are {most_common_5} in the data.\")   "
   ]
  },
  {
   "cell_type": "code",
   "execution_count": 681,
   "metadata": {},
   "outputs": [],
   "source": [
    "# twitter description\n",
    "postmalone_desc = df_twitter[df_twitter['artists'] == 'postmalone'][['desc_2']]\n",
    "postmalone_desc_text = re.sub('\\s+\\.','.', ' '.join(postmalone_desc['desc_2']))\n",
    "postmalone_desc_list = postmalone_desc_text.split()\n",
    "\n",
    "joji_desc = df_twitter[df_twitter['artists'] == 'joji'][['desc_2']]\n",
    "joji_desc_text = re.sub('\\s+\\.','.', ' '.join(joji_desc['desc_2']))\n",
    "joji_desc_list = joji_desc_text.split()\n",
    "\n",
    "# song lyrics\n",
    "postmalone_lyrics = df_lyrics[df_lyrics['artists'] == 'postmalone'][['lyrics_2']]\n",
    "postmalone_lyrics_text = re.sub('\\s+\\.','.', ' '.join(postmalone_lyrics['lyrics_2']))\n",
    "postmalone_lyrics_list = postmalone_lyrics_text.split()\n",
    "\n",
    "joji_lyrics = df_lyrics[df_lyrics['artists'] == 'joji'][['lyrics_2']]\n",
    "joji_lyrics_text = re.sub('\\s+\\.','.', ' '.join(joji_lyrics['lyrics_2']))\n",
    "joji_lyrics_list = joji_lyrics_text.split()"
   ]
  },
  {
   "cell_type": "code",
   "execution_count": 682,
   "metadata": {},
   "outputs": [
    {
     "name": "stdout",
     "output_type": "stream",
     "text": [
      "Descriptive statistics for Post Malone follower description:\n",
      "There are 340606 tokens in the data.\n",
      "There are 77541 unique tokens in the data.\n",
      "There are 1975435 characters in the data.\n",
      "The lexical diversity is 0.228 in the data.\n",
      "The five most common tokens are [('nan', 33505), ('co', 2029), ('de', 1956), ('https', 1911), ('•', 1909)] in the data.\n",
      "\n",
      "Descriptive statistics for Joji follower description:\n",
      "There are 425390 tokens in the data.\n",
      "There are 81009 unique tokens in the data.\n",
      "There are 2718991 characters in the data.\n",
      "The lexical diversity is 0.190 in the data.\n",
      "The five most common tokens are [('nan', 54672), ('music', 3922), ('co', 3447), ('love', 3008), ('och', 2275)] in the data.\n",
      "\n",
      "Descriptive statistics for Post Malone lyrics:\n",
      "There are 4277 tokens in the data.\n",
      "There are 1066 unique tokens in the data.\n",
      "There are 24264 characters in the data.\n",
      "The lexical diversity is 0.249 in the data.\n",
      "The five most common tokens are [('yeah', 140), ('know', 86), ('like', 85), ('got', 72), ('wanna', 69)] in the data.\n",
      "\n",
      "Descriptive statistics for Joji lyrics:\n",
      "There are 1646 tokens in the data.\n",
      "There are 464 unique tokens in the data.\n",
      "There are 9393 characters in the data.\n",
      "The lexical diversity is 0.282 in the data.\n",
      "The five most common tokens are [('yeah', 62), ('know', 49), ('fun', 39), ('fuck', 34), ('right', 34)] in the data.\n"
     ]
    }
   ],
   "source": [
    "print('Descriptive statistics for Post Malone follower description:')\n",
    "descriptive_stats(postmalone_desc_list, postmalone_desc_text, verbose=True)\n",
    "print('\\nDescriptive statistics for Joji follower description:')\n",
    "descriptive_stats(joji_desc_list, joji_desc_text, verbose=True)\n",
    "print('\\nDescriptive statistics for Post Malone lyrics:')\n",
    "descriptive_stats(postmalone_lyrics_list, postmalone_lyrics_text, verbose=True)\n",
    "print('\\nDescriptive statistics for Joji lyrics:')\n",
    "descriptive_stats(joji_lyrics_list, joji_lyrics_text, verbose=True)"
   ]
  },
  {
   "cell_type": "markdown",
   "metadata": {},
   "source": [
    "Q: How do you think the \"top 5 words\" would be different if we left stopwords in the data? \n",
    "\n",
    "A: The top five words will most likely be the stopwords if we don't remove them.\n",
    "\n",
    "---\n",
    "\n",
    "Q: What were your prior beliefs about the lexical diversity between the artists? Does the difference (or lack thereof) in lexical diversity between the artists conform to your prior beliefs? \n",
    "\n",
    "A: My prior belief is the artists should have low lexical diversity, especially in their lyrics. My assumption is each of the artists have their personal style when writing songs and have preferences and favor vocabulary to use. By looking at the descriptive statistics, both of the two artists have low lexical diversity of 0.249 and 0.282. This conforms to my prior belifes.\n"
   ]
  },
  {
   "cell_type": "markdown",
   "metadata": {},
   "source": [
    "\n",
    "## Specialty Statistics\n",
    "\n",
    "The descriptive statistics we have calculated are quite generic. You will now calculate a handful of statistics tailored to these data.\n",
    "\n",
    "1. Ten most common emojis by artist in the twitter descriptions.\n",
    "1. Ten most common hashtags by artist in the twitter descriptions.\n",
    "1. Five most common words in song titles by artist. \n",
    "1. For each artist, a histogram of song lengths (in terms of number of tokens) \n",
    "\n",
    "We can use the `emoji` library to help us identify emojis and you have been given a function to help you.\n"
   ]
  },
  {
   "cell_type": "code",
   "execution_count": 457,
   "metadata": {},
   "outputs": [],
   "source": [
    "def is_emoji(s):\n",
    "    # return(s in emoji.UNICODE_EMOJI['en'])\n",
    "    return(emoji.is_emoji(s))\n",
    "assert(is_emoji(\"❤️\"))\n",
    "assert(not is_emoji(\":-)\"))"
   ]
  },
  {
   "cell_type": "markdown",
   "metadata": {},
   "source": [
    "### Emojis 😁\n",
    "\n",
    "What are the ten most common emojis by artist in the twitter descriptions? \n"
   ]
  },
  {
   "cell_type": "code",
   "execution_count": 683,
   "metadata": {},
   "outputs": [
    {
     "name": "stdout",
     "output_type": "stream",
     "text": [
      "Top ten most common emojis for Post Malone are:\n",
      "[('✨', 327), ('🏳️\\u200d🌈', 294), ('❤️', 232), ('🖤', 208), ('🇲🇽', 172), ('🤍', 170), ('💜', 166), ('🔞', 126), ('🦋', 102), ('🇵🇭', 97)]\n"
     ]
    }
   ],
   "source": [
    "# Your code here\n",
    "postmalone_emoji = []\n",
    "for text in postmalone_desc_list:\n",
    "    if is_emoji(text):\n",
    "        postmalone_emoji.append(text)\n",
    "\n",
    "print('Top ten most common emojis for Post Malone are:')\n",
    "print(Counter(postmalone_emoji).most_common(10))"
   ]
  },
  {
   "cell_type": "code",
   "execution_count": 684,
   "metadata": {},
   "outputs": [
    {
     "name": "stdout",
     "output_type": "stream",
     "text": [
      "Top ten most common emojis for Joji are:\n",
      "[('♥', 356), ('❤️', 269), ('🏳️\\u200d🌈', 245), ('❤', 211), ('✨', 150), ('🌈', 89), ('✌', 49), ('✌️', 48), ('🎶', 42), ('📸', 38)]\n"
     ]
    }
   ],
   "source": [
    "joji_emoji = []\n",
    "for text in joji_desc_list:\n",
    "    if is_emoji(text):\n",
    "        joji_emoji.append(text)\n",
    "\n",
    "print('Top ten most common emojis for Joji are:')\n",
    "print(Counter(joji_emoji).most_common(10))"
   ]
  },
  {
   "cell_type": "markdown",
   "metadata": {},
   "source": [
    "### Hashtags\n",
    "\n",
    "What are the ten most common hashtags by artist in the twitter descriptions? \n"
   ]
  },
  {
   "cell_type": "code",
   "execution_count": 689,
   "metadata": {},
   "outputs": [],
   "source": [
    "# twitter description with punctuation\n",
    "postmalone_desc = df_twitter[df_twitter['artists'] == 'postmalone'][['description']]\n",
    "postmalone_desc_text = re.sub('\\s+\\.','.', ' '.join(postmalone_desc['description']))\n",
    "postmalone_desc_list = postmalone_desc_text.split()\n",
    "\n",
    "joji_desc = df_twitter[df_twitter['artists'] == 'joji'][['description']]\n",
    "joji_desc_text = re.sub('\\s+\\.','.', ' '.join(joji_desc['description']))\n",
    "joji_desc_list = joji_desc_text.split()"
   ]
  },
  {
   "cell_type": "code",
   "execution_count": 692,
   "metadata": {},
   "outputs": [
    {
     "name": "stdout",
     "output_type": "stream",
     "text": [
      "Top ten most common hashtags for PostMalone are:\n",
      "[('#1', 122), ('#blacklivesmatter', 42), ('#blm', 38), ('#ez4ence', 17), ('#vtuber', 15), ('#bts', 14), ('#freepalestine', 12), ('#bitcoin', 12), ('#dubnation', 10), ('#stopasianhate', 9)]\n"
     ]
    }
   ],
   "source": [
    "# Your code here\n",
    "postmalone_hashtag = []\n",
    "for text in postmalone_desc_list:\n",
    "    if re.findall(r\"#(\\w+)\", text):\n",
    "        postmalone_hashtag.append(text)\n",
    "        \n",
    "print('Top ten most common hashtags for PostMalone are:')\n",
    "print(Counter(postmalone_hashtag).most_common(10))\n",
    "\n",
    "# Reference: https://stackoverflow.com/questions/2527892/parsing-a-tweet-to-extract-hashtags-into-an-array"
   ]
  },
  {
   "cell_type": "code",
   "execution_count": 693,
   "metadata": {},
   "outputs": [
    {
     "name": "stdout",
     "output_type": "stream",
     "text": [
      "Top ten most common hashtags for PostMalone are:\n",
      "[('#blacklivesmatter', 78), ('#music', 72), ('#blm', 44), ('#1', 43), ('#edm', 36), ('#teamfollowback', 19), ('#art', 19), ('#dj', 15), ('#directioner', 15), ('#house', 14)]\n"
     ]
    }
   ],
   "source": [
    "joji_hashtag = []\n",
    "for text in joji_desc_list:\n",
    "    if re.findall(r\"#(\\w+)\", text):\n",
    "        joji_hashtag.append(text)\n",
    "        \n",
    "print('Top ten most common hashtags for PostMalone are:')\n",
    "print(Counter(joji_hashtag).most_common(10))"
   ]
  },
  {
   "cell_type": "markdown",
   "metadata": {},
   "source": [
    "### Song Titles\n",
    "\n",
    "What are the five most common words in song titles by artist? The song titles should be on the first line of the lyrics pages, so if you have kept the raw file contents around, you will not need to re-read the data.\n"
   ]
  },
  {
   "cell_type": "code",
   "execution_count": 734,
   "metadata": {},
   "outputs": [],
   "source": [
    "# reuse the code from the top\n",
    "artists = []\n",
    "songs = []\n",
    "\n",
    "for artist in artist_folders:\n",
    "    artist_files = os.listdir(\"lyrics/\" + artist)\n",
    "    artist_files = [f for f in artist_files if 'txt' in f or 'csv' in f or 'tsv' in f]\n",
    "    for f_name in artist_files:\n",
    "        with open(\"lyrics/\" + artist + \"/\" + f_name) as infile:\n",
    "            artists.append(artist)\n",
    "            songs.append(infile.readline())\n",
    "            \n",
    "df_lyrics = pd.DataFrame({'artists':artists,\n",
    "                          'songs'  :songs })\n",
    "\n",
    "df_lyrics['songs'] = df_lyrics['songs'].str.replace('\\n', ' ')"
   ]
  },
  {
   "cell_type": "code",
   "execution_count": 750,
   "metadata": {},
   "outputs": [],
   "source": [
    "# Your code here"
   ]
  },
  {
   "cell_type": "code",
   "execution_count": 745,
   "metadata": {},
   "outputs": [],
   "source": [
    "# Post Malone\n",
    "postmalone_songs = df_lyrics[df_lyrics['artists'] == 'PostMalone'][['songs']]\n",
    "postmalone_songs_text = re.sub('\\s+\\.','.', ' '.join(postmalone_songs['songs']))\n",
    "postmalone_songs_list = postmalone_songs_text.split()"
   ]
  },
  {
   "cell_type": "code",
   "execution_count": 747,
   "metadata": {},
   "outputs": [
    {
     "name": "stdout",
     "output_type": "stream",
     "text": [
      "[('god', 2), ('40', 1), ('funk', 1), ('big', 1), ('lie', 1)]\n"
     ]
    }
   ],
   "source": [
    "print(Counter(postmalone_songs_list).most_common(5))"
   ]
  },
  {
   "cell_type": "code",
   "execution_count": 748,
   "metadata": {},
   "outputs": [],
   "source": [
    "# Joji\n",
    "joji_songs = df_lyrics[df_lyrics['artists'] == 'Joji'][['songs']]\n",
    "joji_songs_text = re.sub('\\s+\\.','.', ' '.join(joji_songs['songs']))\n",
    "joji_songs_list = joji_songs_text.split()"
   ]
  },
  {
   "cell_type": "code",
   "execution_count": 749,
   "metadata": {},
   "outputs": [
    {
     "name": "stdout",
     "output_type": "stream",
     "text": [
      "[('my', 2), ('i', 2), ('the', 2), ('in', 2), ('amazonian', 1)]\n"
     ]
    }
   ],
   "source": [
    "print(Counter(joji_songs_list).most_common(5))"
   ]
  },
  {
   "cell_type": "markdown",
   "metadata": {},
   "source": [
    "### Song Lengths\n",
    "\n",
    "For each artist, a histogram of song lengths (in terms of number of tokens). If you put the song lengths in a data frame with an artist column, matplotlib will make the plotting quite easy. An example is given to help you out. \n"
   ]
  },
  {
   "cell_type": "code",
   "execution_count": 751,
   "metadata": {},
   "outputs": [
    {
     "data": {
      "text/plain": [
       "artist\n",
       "Artist 1    AxesSubplot(0.125,0.125;0.775x0.755)\n",
       "Artist 2    AxesSubplot(0.125,0.125;0.775x0.755)\n",
       "Name: length, dtype: object"
      ]
     },
     "execution_count": 751,
     "metadata": {},
     "output_type": "execute_result"
    },
    {
     "data": {
      "image/png": "[encoded data removed]",
      "text/plain": [
       "<Figure size 432x288 with 1 Axes>"
      ]
     },
     "metadata": {
      "needs_background": "light"
     },
     "output_type": "display_data"
    }
   ],
   "source": [
    "num_replicates = 1000\n",
    "\n",
    "df = pd.DataFrame({\n",
    "    \"artist\" : ['Artist 1'] * num_replicates + ['Artist 2']*num_replicates,\n",
    "    \"length\" : np.concatenate((np.random.poisson(125,num_replicates),np.random.poisson(150,num_replicates)))\n",
    "})\n",
    "\n",
    "df.groupby('artist')['length'].plot(kind=\"hist\",density=True,alpha=0.5,legend=True)"
   ]
  },
  {
   "cell_type": "markdown",
   "metadata": {},
   "source": [
    "Since the lyrics may be stored with carriage returns or tabs, it may be useful to have a function that can collapse whitespace, using regular expressions, and be used for splitting. \n",
    "\n",
    "Q: What does the regular expression `'\\s+'` match on? \n",
    "\n",
    "A: The reuglar expression of \\s+ will match on one or more whitespace. \n"
   ]
  },
  {
   "cell_type": "code",
   "execution_count": 752,
   "metadata": {},
   "outputs": [],
   "source": [
    "collapse_whitespace = re.compile(r'\\s+')\n",
    "\n",
    "def tokenize_lyrics(lyric) : \n",
    "    \"\"\"strip and split on whitespace\"\"\"\n",
    "    return([item.lower() for item in collapse_whitespace.split(lyric)])"
   ]
  },
  {
   "cell_type": "code",
   "execution_count": null,
   "metadata": {},
   "outputs": [],
   "source": [
    "# Your lyric length comparison chart here. "
   ]
  },
  {
   "cell_type": "code",
   "execution_count": 783,
   "metadata": {},
   "outputs": [
    {
     "data": {
      "text/html": [
       "<div>\n",
       "<style scoped>\n",
       "    .dataframe tbody tr th:only-of-type {\n",
       "        vertical-align: middle;\n",
       "    }\n",
       "\n",
       "    .dataframe tbody tr th {\n",
       "        vertical-align: top;\n",
       "    }\n",
       "\n",
       "    .dataframe thead th {\n",
       "        text-align: right;\n",
       "    }\n",
       "</style>\n",
       "<table border=\"1\" class=\"dataframe\">\n",
       "  <thead>\n",
       "    <tr style=\"text-align: right;\">\n",
       "      <th></th>\n",
       "      <th>artists</th>\n",
       "      <th>lyrics_2</th>\n",
       "    </tr>\n",
       "  </thead>\n",
       "  <tbody>\n",
       "    <tr>\n",
       "      <th>0</th>\n",
       "      <td>joji</td>\n",
       "      <td>amazonian pet old man rich amazonian pet rap g...</td>\n",
       "    </tr>\n",
       "    <tr>\n",
       "      <th>1</th>\n",
       "      <td>joji</td>\n",
       "      <td>attention girl would kill throw little bit att...</td>\n",
       "    </tr>\n",
       "    <tr>\n",
       "      <th>2</th>\n",
       "      <td>joji</td>\n",
       "      <td>bitter fuck find hard shed skin everybody else...</td>\n",
       "    </tr>\n",
       "  </tbody>\n",
       "</table>\n",
       "</div>"
      ],
      "text/plain": [
       "  artists                                           lyrics_2\n",
       "0    joji  amazonian pet old man rich amazonian pet rap g...\n",
       "1    joji  attention girl would kill throw little bit att...\n",
       "2    joji  bitter fuck find hard shed skin everybody else..."
      ]
     },
     "execution_count": 783,
     "metadata": {},
     "output_type": "execute_result"
    }
   ],
   "source": [
    "df_lyrics = df_lyrics[['artists', 'lyrics_2']]\n",
    "df_lyrics.head(3)"
   ]
  },
  {
   "cell_type": "code",
   "execution_count": 787,
   "metadata": {},
   "outputs": [
    {
     "name": "stderr",
     "output_type": "stream",
     "text": [
      "<ipython-input-787-a2c4469e6652>:1: SettingWithCopyWarning: \n",
      "A value is trying to be set on a copy of a slice from a DataFrame.\n",
      "Try using .loc[row_indexer,col_indexer] = value instead\n",
      "\n",
      "See the caveats in the documentation: https://pandas.pydata.org/pandas-docs/stable/user_guide/indexing.html#returning-a-view-versus-a-copy\n",
      "  df_lyrics['lyrics_len'] = df_lyrics['lyrics_2'].str.split(' ').str.len()\n"
     ]
    },
    {
     "data": {
      "text/html": [
       "<div>\n",
       "<style scoped>\n",
       "    .dataframe tbody tr th:only-of-type {\n",
       "        vertical-align: middle;\n",
       "    }\n",
       "\n",
       "    .dataframe tbody tr th {\n",
       "        vertical-align: top;\n",
       "    }\n",
       "\n",
       "    .dataframe thead th {\n",
       "        text-align: right;\n",
       "    }\n",
       "</style>\n",
       "<table border=\"1\" class=\"dataframe\">\n",
       "  <thead>\n",
       "    <tr style=\"text-align: right;\">\n",
       "      <th></th>\n",
       "      <th>artists</th>\n",
       "      <th>lyrics_2</th>\n",
       "      <th>lyrics_len</th>\n",
       "    </tr>\n",
       "  </thead>\n",
       "  <tbody>\n",
       "    <tr>\n",
       "      <th>0</th>\n",
       "      <td>joji</td>\n",
       "      <td>amazonian pet old man rich amazonian pet rap g...</td>\n",
       "      <td>94</td>\n",
       "    </tr>\n",
       "    <tr>\n",
       "      <th>1</th>\n",
       "      <td>joji</td>\n",
       "      <td>attention girl would kill throw little bit att...</td>\n",
       "      <td>85</td>\n",
       "    </tr>\n",
       "    <tr>\n",
       "      <th>2</th>\n",
       "      <td>joji</td>\n",
       "      <td>bitter fuck find hard shed skin everybody else...</td>\n",
       "      <td>73</td>\n",
       "    </tr>\n",
       "  </tbody>\n",
       "</table>\n",
       "</div>"
      ],
      "text/plain": [
       "  artists                                           lyrics_2  lyrics_len\n",
       "0    joji  amazonian pet old man rich amazonian pet rap g...          94\n",
       "1    joji  attention girl would kill throw little bit att...          85\n",
       "2    joji  bitter fuck find hard shed skin everybody else...          73"
      ]
     },
     "execution_count": 787,
     "metadata": {},
     "output_type": "execute_result"
    }
   ],
   "source": [
    "df_lyrics['lyrics_len'] = df_lyrics['lyrics_2'].str.split(' ').str.len()\n",
    "df_lyrics.head(3)"
   ]
  },
  {
   "cell_type": "code",
   "execution_count": 789,
   "metadata": {},
   "outputs": [
    {
     "data": {
      "text/plain": [
       "artists\n",
       "joji          AxesSubplot(0.125,0.125;0.775x0.755)\n",
       "postmalone    AxesSubplot(0.125,0.125;0.775x0.755)\n",
       "Name: lyrics_len, dtype: object"
      ]
     },
     "execution_count": 789,
     "metadata": {},
     "output_type": "execute_result"
    },
    {
     "data": {
      "image/png": "[encoded data removed]",
      "text/plain": [
       "<Figure size 432x288 with 1 Axes>"
      ]
     },
     "metadata": {
      "needs_background": "light"
     },
     "output_type": "display_data"
    }
   ],
   "source": [
    "df_lyrics.groupby('artists')['lyrics_len'].plot(kind=\"hist\",density=True,alpha=0.5,legend=True)"
   ]
  },
  {
   "cell_type": "markdown",
   "metadata": {},
   "source": [
    "---"
   ]
  }
 ],
 "metadata": {
  "kernelspec": {
   "display_name": "Python 3",
   "language": "python",
   "name": "python3"
  },
  "language_info": {
   "codemirror_mode": {
    "name": "ipython",
    "version": 3
   },
   "file_extension": ".py",
   "mimetype": "text/x-python",
   "name": "python",
   "nbconvert_exporter": "python",
   "pygments_lexer": "ipython3",
   "version": "3.8.3"
  }
 },
 "nbformat": 4,
 "nbformat_minor": 5
}
